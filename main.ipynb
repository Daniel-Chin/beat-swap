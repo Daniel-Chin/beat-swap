{
 "cells": [
  {
   "cell_type": "markdown",
   "metadata": {},
   "source": [
    "swap 2 4  \n",
    "swing"
   ]
  },
  {
   "cell_type": "code",
   "execution_count": null,
   "metadata": {},
   "outputs": [],
   "source": [
    "import librosa\n",
    "import IPython\n",
    "from math import floor\n",
    "from random import random\n",
    "from resampy import resample\n",
    "import numpy as np"
   ]
  },
  {
   "cell_type": "code",
   "execution_count": null,
   "metadata": {},
   "outputs": [],
   "source": [
    "songs = [\n",
    "    ('Draina OST _ Dianlin Forest.mp3', 100, 0), \n",
    "    ('Draina OST _ Rubber Factory (Basement).mp3', 80.3, 0), \n",
    "    ('Draina OST _ Title Screen.mp3', 105, 0), \n",
    "    ('u_boss1cont.ogg', 93, 0), \n",
    "    ('u_boss2cont.ogg', 93, 0), \n",
    "    ('u_maincont.ogg', 93.2, 0), \n",
    "    ('u_roomcont.ogg', 106.6, 0), \n",
    "    \n",
    "]"
   ]
  },
  {
   "cell_type": "code",
   "execution_count": null,
   "metadata": {},
   "outputs": [],
   "source": [
    "song_name, bpm, phase = songs[-1]\n",
    "data, sr = librosa.load(song_name)"
   ]
  },
  {
   "cell_type": "code",
   "execution_count": null,
   "metadata": {},
   "outputs": [],
   "source": [
    "def preview(data, sr):\n",
    "    return IPython.display.Audio(data = data, rate = sr)\n"
   ]
  },
  {
   "cell_type": "code",
   "execution_count": null,
   "metadata": {},
   "outputs": [],
   "source": [
    "preview(data[:sr*5], sr)"
   ]
  },
  {
   "cell_type": "code",
   "execution_count": null,
   "metadata": {},
   "outputs": [],
   "source": [
    "def tryBeat(data, sr, bpm, noise_sec = .05, phase = 0, amp = .3):\n",
    "    secpb = 60 / bpm\n",
    "    sampb = sr * secpb\n",
    "    noise_sam = round(noise_sec * sr)\n",
    "    x = np.copy(data)\n",
    "    n_beats = floor(len(data) / sampb)\n",
    "    for i in range(n_beats):\n",
    "        base = round(sampb * i)\n",
    "        for j in range(noise_sam):\n",
    "            x[base + j] = (random() * 2 - 1) * amp\n",
    "    return x"
   ]
  },
  {
   "cell_type": "code",
   "execution_count": null,
   "metadata": {},
   "outputs": [],
   "source": [
    "preview(tryBeat(data, sr, 106.6)[:], sr)"
   ]
  },
  {
   "cell_type": "code",
   "execution_count": null,
   "metadata": {},
   "outputs": [],
   "source": [
    "# legacy code\n",
    "def pitchBend(chunk, sr):\n",
    "    freq_ratio = 2\n",
    "    len_chunk = len(chunk)\n",
    "    chunk = resample(chunk, sr, sr // freq_ratio, filter='kaiser_best')\n",
    "    return append(chunk, chunk[len(chunk) - len_chunk:])\n"
   ]
  },
  {
   "cell_type": "code",
   "execution_count": null,
   "metadata": {},
   "outputs": [],
   "source": [
    "def swing(data, sr, bpm, shuffle=False):\n",
    "    x = []\n",
    "    secpb = 60 / bpm\n",
    "    sampb = round(sr * secpb)\n",
    "    first_half = sampb // 2\n",
    "    sec_half = sampb - first_half\n",
    "    print(first_half, sec_half)\n",
    "    n_beats = floor(len(data) / sampb)\n",
    "    for i in range(n_beats):\n",
    "        base = round(sampb * i)\n",
    "        if shuffle:\n",
    "            x.extend(data[base + first_half : base + sampb]    )\n",
    "            x.extend(librosa.effects.time_stretch(data[base : base + first_half], .5))\n",
    "        else:\n",
    "            x.extend(librosa.effects.time_stretch(data[base : base + first_half], .5))\n",
    "            x.extend(data[base + first_half : base + sampb]    )\n",
    "#     return np.array(x)\n",
    "    return librosa.effects.time_stretch(np.array(x), 1.7)\n"
   ]
  },
  {
   "cell_type": "code",
   "execution_count": null,
   "metadata": {},
   "outputs": [],
   "source": [
    "# preview(swing(data[:len(data)//5], sr, 100), sr)\n",
    "preview(swing(data, sr, bpm/1, False), sr)"
   ]
  },
  {
   "cell_type": "code",
   "execution_count": null,
   "metadata": {},
   "outputs": [],
   "source": [
    "# preview(swing(data[:len(data)//5], sr, 100), sr)\n",
    "preview(swing(data, sr, bpm/1, True), sr)"
   ]
  },
  {
   "cell_type": "code",
   "execution_count": null,
   "metadata": {},
   "outputs": [],
   "source": [
    "def swap24(data, sr, bpm):\n",
    "    x = np.copy(data)\n",
    "    secpb = 60 / bpm\n",
    "    sampb = round(sr * secpb)\n",
    "    pos_1 = sampb // 4\n",
    "    pos_2 = pos_1 * 2\n",
    "    pos_3 = sampb - pos_1\n",
    "    n_beats = floor(len(data) / sampb)\n",
    "    for i in range(n_beats):\n",
    "        base = round(sampb * i)\n",
    "        x[base + pos_1 : base + pos_2] = data[base + pos_3 : base + sampb]\n",
    "        x[base + pos_3 : base + sampb] = data[base + pos_1 : base + pos_2]\n",
    "    return x\n"
   ]
  },
  {
   "cell_type": "code",
   "execution_count": null,
   "metadata": {},
   "outputs": [],
   "source": [
    "secpb = 60 / bpm\n",
    "sampb = round(sr * secpb)\n",
    "\n",
    "preview(swap24(data, sr, bpm / 8)[sampb*0:], sr)"
   ]
  }
 ],
 "metadata": {
  "kernelspec": {
   "display_name": "Python 3",
   "language": "python",
   "name": "python3"
  },
  "language_info": {
   "codemirror_mode": {
    "name": "ipython",
    "version": 3
   },
   "file_extension": ".py",
   "mimetype": "text/x-python",
   "name": "python",
   "nbconvert_exporter": "python",
   "pygments_lexer": "ipython3",
   "version": "3.6.10"
  }
 },
 "nbformat": 4,
 "nbformat_minor": 2
}
